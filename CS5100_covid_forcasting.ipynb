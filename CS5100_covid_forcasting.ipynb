{
  "nbformat": 4,
  "nbformat_minor": 0,
  "metadata": {
    "colab": {
      "provenance": [],
      "include_colab_link": true
    },
    "kernelspec": {
      "name": "python3",
      "display_name": "Python 3"
    },
    "language_info": {
      "name": "python"
    }
  },
  "cells": [
    {
      "cell_type": "markdown",
      "metadata": {
        "id": "view-in-github",
        "colab_type": "text"
      },
      "source": [
        "<a href=\"https://colab.research.google.com/github/jiaqiwang0/CS5100/blob/jackie/CS5100_covid_forcasting.ipynb\" target=\"_parent\"><img src=\"https://colab.research.google.com/assets/colab-badge.svg\" alt=\"Open In Colab\"/></a>"
      ]
    },
    {
      "cell_type": "code",
      "execution_count": 1,
      "metadata": {
        "id": "IbCKkj7erLFq"
      },
      "outputs": [],
      "source": [
        "# init\n",
        "# test\n",
        "# test-ari\n",
        "# test-ari2"
      ]
    },
    {
      "cell_type": "markdown",
      "source": [
        "# Forecasting modeling"
      ],
      "metadata": {
        "id": "mwPWD44k2NXg"
      }
    },
    {
      "cell_type": "code",
      "source": [
        "from google.colab import drive\n",
        "import pandas as pd\n"
      ],
      "metadata": {
        "id": "woB7CrPT2XXF"
      },
      "execution_count": 2,
      "outputs": []
    },
    {
      "cell_type": "code",
      "source": [
        "drive.mount('/content/drive/')"
      ],
      "metadata": {
        "id": "LE0ENX0F2Sws",
        "outputId": "9724dd44-46b6-43a0-88bd-13c268e53023",
        "colab": {
          "base_uri": "https://localhost:8080/"
        }
      },
      "execution_count": 3,
      "outputs": [
        {
          "output_type": "stream",
          "name": "stdout",
          "text": [
            "Mounted at /content/drive/\n"
          ]
        }
      ]
    },
    {
      "cell_type": "code",
      "source": [
        "path = '/content/drive/My Drive/CS5100 Final Project/data'"
      ],
      "metadata": {
        "id": "Wp5XrKIG2r7r"
      },
      "execution_count": 6,
      "outputs": []
    },
    {
      "cell_type": "code",
      "source": [
        "train_dataset = pd.read_csv(path + '/time_series_covid19_confirmed_global.csv')\n",
        "drop_clo = ['Province/State','Country/Region','Lat','Long']\n",
        "train_dataset=train_dataset.drop(drop_clo,axis=1)\n",
        "datewise= list(train_dataset.columns)\n",
        "val_dataset = train_dataset[datewise[-30:]]"
      ],
      "metadata": {
        "id": "3vjOWtqr3p0u"
      },
      "execution_count": 8,
      "outputs": []
    }
  ]
}